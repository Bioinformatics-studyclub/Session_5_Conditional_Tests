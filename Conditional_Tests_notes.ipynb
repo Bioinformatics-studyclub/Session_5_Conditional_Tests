{
 "cells": [
  {
   "cell_type": "markdown",
   "metadata": {},
   "source": [
    "    \n",
    "<h1><center>Conditional Tests</center></h1>"
   ]
  },
  {
   "cell_type": "markdown",
   "metadata": {},
   "source": [
    "\n",
    "**Conditionals** are used when you require a program to look at some data and make a decision to either execute or skip a sequence of statements.\n",
    "\n",
    "<br>\n",
    "\n",
    "```ruby\n",
    "if expression:\n",
    "    statements```\n",
    "    \n",
    "\n",
    "<br>\n",
    "\n",
    "_**Example 1.**_\n",
    " \n",
    "```ruby\n",
    "if humans_can_be_inspiring: \n",
    "    give humans a chance```  \n",
    " \n",
    "Above is **True**. So  `give humans a chance` will execute/run    \n",
    "<br>\n",
    "<br>\n",
    "\n",
    "\n",
    "_**Example 2.**_\n",
    "```ruby\n",
    " \n",
    "if all_politians_can_be_trusted: \n",
    "    give them your money```     \n",
    "<br> Above is **False**. So `give them your money` will **NOT** execute\n",
    "<br> \n",
    "\n",
    "               \n"
   ]
  },
  {
   "cell_type": "markdown",
   "metadata": {},
   "source": [
    "If the <span style=\"color:blue\">expression</span>  is true, the statements are executed; otherwise, they are skipped.\n",
    "\n",
    "\n",
    "Code that instructs the computer to scan data and to decide whether it satisfies your requirements/conditions, is called a ***condition***.\n",
    "\n",
    "The code then produces a ***True*** or ***False*** answer \n",
    "\n",
    "For example, all the lines of code <u>**BELOW**</u>, use ***operators*** (e.g `==`, `!=`, `in`, `not in`) that will either answer **True** or **False** when the code is executed\n"
   ]
  },
  {
   "cell_type": "markdown",
   "metadata": {},
   "source": [
    "<div class=\"alert alert-block alert-success\">\n",
    "    \n",
    "> Some of the most commonly used ***Comparison operators*** are:\n",
    "\n",
    "1. Greater than and less than:  `>` and `<`\n",
    "<br>\n",
    "\n",
    "2. \"More than **or** equal to\" and \"Less than **or** equal to\":  `>=` and `<=`\n",
    "<br>\n",
    "\n",
    "\n",
    "3. Equals/equavalent to:  `==` _(This will PASS for two clones which are genetically the same)_\n",
    "<br>\n",
    "\n",
    "4. Not equal to: `!=`\n",
    "\n",
    "\n",
    "5. Are two objects **the same**: `is` _(This will FAIL for two clones - even though they are genetically the same. Because they are still not the same sample/individual)_\n",
    "<br>\n",
    "\n",
    "6. Is a value **in** a some data type, such as a string or list: `in`\n",
    "<br>\n"
   ]
  },
  {
   "cell_type": "markdown",
   "metadata": {},
   "source": [
    "> Will the statements below return a **True** or a **False**?"
   ]
  },
  {
   "cell_type": "code",
   "execution_count": null,
   "metadata": {},
   "outputs": [],
   "source": [
    "print(3 == 5) # Read as: \"3 equal to/equavalent to 5. True or False?\"\n",
    "print(3 > 5)\n",
    "print(3 <=5)\n",
    "print(len(\"ATGC\") > 5) \n",
    "print(\"GAATTC\".count(\"T\") > 1)\n",
    "\n",
    "print(\"V\" in [\"V\", \"W\", \"L\"])\n",
    "print(\"S\" not in [\"V\", \"W\", \"L\"])\n",
    "\n",
    "# Some of the methods you worked with before, actually also worked as `conditions`\n",
    "print(\"ATGCTT\".startswith(\"ATG\"))\n",
    "print(\"ATGCTT\".endswith(\"TTT\"))\n",
    "print(\"ATGCTT\".isupper())\n",
    "print(\"ATGCTT\".islower())\n",
    "print(not \"ATGCTT\".islower())"
   ]
  },
  {
   "cell_type": "markdown",
   "metadata": {},
   "source": [
    "<div class=\"alert alert-block alert-danger\">\n",
    "\n",
    ">Note that ***True*** and ***False*** are built-in words in Python and not strings. They can therefore:\n",
    "1. be printed without using quotation marks\n",
    "2. ***cannot*** be chosen as variable names"
   ]
  },
  {
   "cell_type": "code",
   "execution_count": null,
   "metadata": {},
   "outputs": [],
   "source": [
    "print(True)\n",
    "print(False)"
   ]
  },
  {
   "cell_type": "markdown",
   "metadata": {},
   "source": [
    "> as opposed to below, which will produce an error:\n"
   ]
  },
  {
   "cell_type": "code",
   "execution_count": null,
   "metadata": {},
   "outputs": [],
   "source": [
    "print(dna_name) # an unassigned, non built-in variable name"
   ]
  },
  {
   "cell_type": "code",
   "execution_count": null,
   "metadata": {},
   "outputs": [],
   "source": [
    "True = \"string\""
   ]
  },
  {
   "cell_type": "code",
   "execution_count": null,
   "metadata": {},
   "outputs": [],
   "source": [
    "true = \"string\" #Python is case-sensitive\n",
    "\n",
    "print(true)"
   ]
  },
  {
   "cell_type": "markdown",
   "metadata": {},
   "source": [
    "<h2><center>if Statements </center></h2>"
   ]
  },
  {
   "cell_type": "markdown",
   "metadata": {},
   "source": [
    "\n",
    "How to use **if Statements**\n",
    "\n",
    "> We write the word **if**, followed by a **condition**, and end the first line with a **colon**.\n"
   ]
  },
  {
   "cell_type": "code",
   "execution_count": null,
   "metadata": {},
   "outputs": [],
   "source": [
    "#Note that because the line containing the if statement contains \n",
    "# a colon, the body of the if statement is indented\n",
    "\n",
    "number = 125 #assigned the value 125 to the variable `number`\n",
    "\n",
    "if number < 100:\n",
    "    print(\"gene is highly expressed\") # note that this is tab-indented\n",
    "    \n",
    "\n",
    "print(\"the statement was false\")"
   ]
  },
  {
   "cell_type": "markdown",
   "metadata": {},
   "source": [
    "    \n",
    "> But this is rarely how we would use a conditional. Usually we would have data too large to look through manually. So look at the example below\n",
    "\n",
    "> We can write a conditional that loops through a list, but only find accession numbers that starts with **\"a\"**"
   ]
  },
  {
   "cell_type": "code",
   "execution_count": null,
   "metadata": {},
   "outputs": [],
   "source": [
    "accessions = ['ab56', 'bh84', 'hv76', 'ay93', 'ap97', 'bd72', 'ck46', 'df01','ap93', 'tc77', 'op30', 'yl01', 'aa42', 'fj11', 'px55', 'am23', 'su87', 'ar64']\n",
    "\n",
    "for accession in accessions:\n",
    "    if accession.startswith('a'):\n",
    "        print(accession)\n"
   ]
  },
  {
   "cell_type": "code",
   "execution_count": null,
   "metadata": {},
   "outputs": [],
   "source": [
    "accessions = ['ab56', 'bh84', 'hv76', 'ay93', 'ap97', 'bd72', 'ck46', 'df01','ap93', 'tc77', 'op30', 'yl01', 'aa42', 'fj11', 'px55', 'am23', 'su87', 'ar64']\n",
    "\n",
    "for position, accession in enumerate(accessions): # you can use `enumerate` to indicate the position/index of the item\n",
    "    if accession.startswith('a'):\n",
    "        print(accession, position + 1) # we add +1 since indexing starts at 0\n"
   ]
  },
  {
   "cell_type": "markdown",
   "metadata": {},
   "source": [
    "\n",
    "> Remember from Loops that the variable name \"accession\" is user-determined. But you can use any other variable, such as \"acc\" or \"I_dont_care\", but we usually choose a variable name that is meaningful\n",
    "\n",
    "> The variable you use takes on the value of each item in the list, sequentially as it moves through the loop. \n",
    "\n",
    "> So at the very start of the for loop, when we execute the code, accession == 'ab56'. \n",
    "\n",
    "> The second time around, accession == 'bh84'....and at the end of the loop, it takes on the last value in the list, 'ar64'.\n",
    "\n",
    "> Also, note that here there are two levels of indentation. One for the ***for loop*** and one for the ***if statement***. \n",
    "\n",
    "    \n",
    "> You can use many different conditions and Python can handle any number of indendation. However, the general rule of thumb is ***\"If you find yourself writing a piece of code that requires more than three levels of indentation, it's generally an indication that that piece of code should be turned into a function.\"*** This is usually to protect the programmer from confusion and errors"
   ]
  },
  {
   "cell_type": "markdown",
   "metadata": {},
   "source": [
    "<h2><center>Nested Loops</center></h2>"
   ]
  },
  {
   "cell_type": "markdown",
   "metadata": {},
   "source": [
    "> A **nested loop** is a loop within a loop.\n",
    "\n",
    "> You must be careful to understand how a nested loop is executed by your script"
   ]
  },
  {
   "cell_type": "code",
   "execution_count": null,
   "metadata": {},
   "outputs": [],
   "source": [
    "names = [\"Homer\", \"Bart\", \"Bob\"]\n",
    "activities = [\"drinks coffee\", \"uses his imagination\", \"fools himself\"]\n",
    "\n",
    "for name in names:\n",
    "    for activity in activities:\n",
    "        print (name, activity) #Homer has to finish all the activies, before Bart or Bob gets a go\n",
    "        \n",
    "    "
   ]
  },
  {
   "cell_type": "markdown",
   "metadata": {},
   "source": [
    "\n",
    "<h2><center>Homer drinks coffee</center></h1>\n",
    "<img src=\"https://media.giphy.com/media/l2Je9NYUAiqQEBOog/giphy.gif\" width=\"300\" height=\"300\" />\n",
    "<br>\n",
    "\n",
    "<h2><center>Homer uses his imagination</center></h1>\n",
    "<img src=\"https://media.giphy.com/media/DK3nPt4gDanRK/giphy.gif\" width=\"300\" height=\"300\" />\n",
    "<br>\n",
    "\n",
    "<h2><center>Homer fools himself</center></h1>\n",
    "<img src=\"https://media.giphy.com/media/4KkSbPnZ5Skec/giphy.gif\" width=\"300\" height=\"300\" />\n",
    "\n",
    "<br>\n",
    " <h2><center>Bart does NOT get coffee until Homer completed his activities</center></h1>\n",
    "<img src=\"https://media.giphy.com/media/xT5LMPeYybFm1ryZ6o/giphy.gif\" width=\"300\" height=\"300\" />\n"
   ]
  },
  {
   "cell_type": "markdown",
   "metadata": {},
   "source": [
    "> So the bottom code reads:\n",
    "> 1. Execute the **first `for loop`** for the list called **`names`**\n",
    "> 2. Let the variable called **`name`** take on the first item in the list **`names`** - which is **Homer**\n",
    "> 3. Move to the **second `for loop`** for the list called **`activities`**\n",
    "> 4. Let the variable name **`activitity`** take on the first item\n",
    "> in the list called **`activities`**,  which is **`drinks coffee`**\n",
    "> 5. <span style=\"color:red\"> **DO NOT GO BACK TO THE FIRST FOR LOOP**</span> and change what is stored in the variable **`name`** from Homer to Bart\n",
    "> until Homer has executed everything in the second **`for loop`**\n"
   ]
  },
  {
   "cell_type": "code",
   "execution_count": null,
   "metadata": {},
   "outputs": [],
   "source": [
    "letters = [\"a\", \"b\", \"e\", \"o\"]\n",
    "words = [\"bounce\", \"run\", \"flight\", \"car\", \"roll\", \"role\"]\n",
    "\n",
    "for letter in letters:\n",
    "    for word in words:\n",
    "        if letter in word:\n",
    "            print (letter, word)"
   ]
  },
  {
   "cell_type": "code",
   "execution_count": null,
   "metadata": {},
   "outputs": [],
   "source": [
    "snps = ['rs0016','rs222','rs333','rs1589','rs47847','rs747474']\n",
    "entries = ['ID;SNP;position;gene', '1;rs111;2015;tp53',' 2;rs222;3069;tp53',' 3;rs33349;85476;tp53',' 4;rs444;102365;tp53']\n",
    "        \n",
    "for snp in snps:\n",
    "    for entry in entries:\n",
    "        if entry.startswith(\"ID\"):\n",
    "            continue # skip the entry\n",
    "        if snp in entry:\n",
    "            print (snp, entry)\n",
    "            \n",
    "            "
   ]
  },
  {
   "cell_type": "markdown",
   "metadata": {},
   "source": [
    "<div class=\"alert alert-block alert-danger\">\n",
    "\n",
    "> As previously stated, this is not the best way to do it\n",
    "\n",
    "> its better to split the individual items in the entries on the semi-colon and use the equivalent to check. \n",
    "\n",
    "> You may risk having an entry like **rs33349** passing the test, because **rs333** is in that snp"
   ]
  },
  {
   "cell_type": "code",
   "execution_count": 52,
   "metadata": {},
   "outputs": [
    {
     "name": "stdout",
     "output_type": "stream",
     "text": [
      "rs222  2;rs222;3069;tp53\n"
     ]
    }
   ],
   "source": [
    "snps = ['rs0016','rs222','rs333','rs1589','rs47847','rs747474']\n",
    "entries = ['ID;SNP;position;gene', '1;rs111;2015;tp53',' 2;rs222;3069;tp53',' 3;rs33349;85476;tp53',' 4;rs444;102365;tp53']\n",
    "#the snp rs333 was changed to rs33349 and should now not pass\n",
    "\n",
    "for snp in snps:\n",
    "    for entry in entries:\n",
    "        \n",
    "        if entry.startswith(\"ID\"):\n",
    "            continue # skip the entry\n",
    "        column = entry.split(\";\")\n",
    "        if snp == column[1]:\n",
    "            print (snp, entry)\n",
    "        "
   ]
  },
  {
   "cell_type": "markdown",
   "metadata": {},
   "source": [
    "<h2><center>else Statement</center></h2>"
   ]
  },
  {
   "cell_type": "markdown",
   "metadata": {},
   "source": [
    "> Sometimes we also want access to the data that does not satisfy our conditions. For example, print all values that are unique to one file, but print the rest to another file, because you might want to use the other data for another study\n",
    "\n",
    "> For this we use the ***else clause*** after the end of the body of an \"if statement\"\n",
    "\n",
    "```ruby\n",
    "if expression:\n",
    "    statements1\n",
    "else:\n",
    "    statements2```\n",
    "\n",
    "> The else statement ***doesn't have any condition*** of its own – rather, the else statement body is ***executed when*** the ***if statement*** to which it's attached ***is not executed***\n",
    "\n"
   ]
  },
  {
   "cell_type": "code",
   "execution_count": null,
   "metadata": {},
   "outputs": [],
   "source": [
    "accs = ['ab56', 'bh84', 'hv76', 'ay93', 'ap97', 'bd72', 'ck46', 'df01','ap93', 'tc77', 'op30', 'yl01', 'aa42', 'fj11', 'px55', 'am23', 'su87', 'ar64']\n",
    "for accession in accs:\n",
    "    if accession.startswith('a'):\n",
    "        print(accession)\n",
    "    else:\n",
    "        print (\"I do not start with 'a': \", accession)"
   ]
  },
  {
   "cell_type": "markdown",
   "metadata": {},
   "source": [
    "> But usually we would separate what we need into separate files"
   ]
  },
  {
   "cell_type": "code",
   "execution_count": null,
   "metadata": {},
   "outputs": [],
   "source": [
    "# Name and open the two files I require\n",
    "accessions_of_interest = open(\"accessions_of_interest.txt\", \"w\")\n",
    "leftover_accessions = open(\"leftover_accessions.txt\", \"w\")\n",
    "\n",
    "accs = ['ab56', 'bh84', 'hv76', 'ay93', 'ap97', 'bd72', 'ck46', 'df01','ap93', 'tc77', 'op30', 'yl01', 'aa42', 'fj11', 'px55', 'am23', 'su87', 'ar64']\n",
    "for accession in accs:\n",
    "    if accession.startswith('a'):\n",
    "        accessions_of_interest.write(accession + \"\\n\") # I need to include the new lines myself\n",
    "    else:\n",
    "        leftover_accessions.write(accession + \"\\n\")\n"
   ]
  },
  {
   "cell_type": "markdown",
   "metadata": {},
   "source": [
    "<div class=\"alert alert-block alert-danger\">\n",
    "\n",
    "> Notice how there are multiple indentation levels as before, but that the ***if*** and ***else statements*** are at the ***same level***."
   ]
  },
  {
   "cell_type": "markdown",
   "metadata": {},
   "source": [
    "<h2><center>elif Statement</center></h2>"
   ]
  },
  {
   "cell_type": "markdown",
   "metadata": {},
   "source": [
    "\n",
    "> But sometimes you need to test for multiple conditions\n",
    "\n",
    "> The ***elif*** statement, allows us to accomplish just that\n",
    "\n",
    "```ruby\n",
    "if expression1:\n",
    "    statements1\n",
    "elif expression2:\n",
    "    statements2\n",
    "elif expression3:\n",
    "    statements3\n",
    "    ( . . . any number of additional elif clauses)\n",
    "else: (optional)\n",
    "    statements```\n",
    "    \n",
    "   "
   ]
  },
  {
   "cell_type": "markdown",
   "metadata": {},
   "source": [
    "The expressions in the `if` clause and **each** of the `elif` clauses are evaluated **in order**, until one is true. <br>The statement of the first expression that is true, is executed and the rest of the conditional is skipped. \n",
    "<br>If none of the expressions are true and there is an `else` clause, the statements of the `else` clause get executed.\n",
    "<br> You may have multiple `elif` statements and no `else` statments. \n",
    "<br> <span style=\"color:red\"> That is, an `else` statement is **not** required.\n",
    "    </span>\n",
    "   "
   ]
  },
  {
   "cell_type": "code",
   "execution_count": null,
   "metadata": {},
   "outputs": [],
   "source": [
    "# Name and open the two files I require\n",
    "accessions_start_a = open(\"accessions_start_a.txt\", \"w\")\n",
    "acession_start_b = open(\"accessions_start_b.txt\", \"w\")\n",
    "leftover_accessions = open(\"leftover_accessions.txt\", \"w\")\n",
    "\n",
    "accs = ['ab56', 'bh84', 'hv76', 'ay93', 'ap97', 'bd72', 'ck46', 'df01','ap93', 'tc77', 'op30', 'yl01', 'aa42', 'fj11', 'px55', 'am23', 'su87', 'ar64']\n",
    "for accession in accs:\n",
    "    if accession.startswith('a'):\n",
    "        accessions_start_a.write(accession + \"\\n\") # I need to include the new lines myself\n",
    "    elif accession.startswith('b'):\n",
    "        acession_start_b.write(accession + \"\\n\") \n",
    "    else:\n",
    "        leftover_accessions.write(accession + \"\\n\")"
   ]
  },
  {
   "cell_type": "markdown",
   "metadata": {},
   "source": [
    "<div class=\"alert alert-block alert-success\">\n",
    "    \n",
    "> This is a reminder that the `if`, `elif` and `else` statements are all **directly below** each other\n",
    "\n",
    "> ***elif*** can be used multiple times and your code will still have just two levels of indendation (one for the \"for loop\" and one for \"if, elif and else\")\n",
    "\n",
    "> The code is also still very readable"
   ]
  },
  {
   "cell_type": "markdown",
   "metadata": {},
   "source": [
    "<h2><center>while Loops</center></h2>"
   ]
  },
  {
   "cell_type": "markdown",
   "metadata": {},
   "source": [
    "\n",
    "> A `while loop` repeats an instruction as long as a particular condition is true.\n",
    "\n",
    "> As soon as the condition is no longer true, it exits the while loop (stops)\n",
    "\n",
    "> E.g. throw me a piece of candy until there is no more candy in the packet.\n",
    "\n",
    "> You can the condition set by the `while loop` them to determine when to exit a loop\n",
    "\n",
    "> A  while statement provides ***flexibility*** that you don’t get with a \"for statement\". \n",
    "\n",
    "> But a `for loop` ends automatically when it has tested to condition for all the items in the loop\n",
    "\n",
    "> A `while loop` may go on forever and freeze your computer, if you don't tell it when to stop\n",
    "\n",
    "> when working with the while statement, you must perform ***three tasks***:\n",
    "1. Create the environment/starting point for the condition (such as setting Sum to 0).\n",
    "2. State the condition that must be satisfied within the while statement (such as Sum < 5).\n",
    "3. Update the condition as needed to ensure that the loop eventually ends (such as adding Sum+=1 to the while code block)."
   ]
  },
  {
   "cell_type": "code",
   "execution_count": null,
   "metadata": {},
   "outputs": [],
   "source": [
    "Sum = 2\n",
    "\n",
    "\n",
    "while Sum < 5:\n",
    "    #if....... \n",
    "    print(Sum)\n",
    "    Sum = Sum + 1\n"
   ]
  },
  {
   "cell_type": "markdown",
   "metadata": {},
   "source": [
    "> why is this not printing 5?"
   ]
  },
  {
   "cell_type": "markdown",
   "metadata": {},
   "source": [
    "because when the Sum variable = 5, the condition will read:\n",
    "\n",
    "**while 5 < 5:**\n",
    "\n",
    "**False**, because 5 is not < 5, \n",
    "\n",
    "So I need to exit this loop, and not execute anything that follows in the block.\n",
    "\n",
    "The print statement is in the block which is not going to be printed\n"
   ]
  },
  {
   "cell_type": "markdown",
   "metadata": {},
   "source": [
    "<h2><center>Complex conditions</center></h2> "
   ]
  },
  {
   "cell_type": "markdown",
   "metadata": {},
   "source": [
    "\n",
    "> You may also need to filter based on several conditions.\n",
    "\n",
    "> Imagine we want to go through our list of accessions and print out only the ones that start with \"a\" and end with \"3\"."
   ]
  },
  {
   "cell_type": "markdown",
   "metadata": {},
   "source": [
    "<div class=\"alert alert-block alert-success\">\n",
    "\n",
    "> **Boolean operators:** ***and***, ***or*** and ***not***"
   ]
  },
  {
   "cell_type": "markdown",
   "metadata": {},
   "source": [
    "\n",
    "> Complex conditions using ***and***\n",
    "\n",
    "> We can also use **and** to join up two conditions, to produce a complex condition that will be true if ***BOTH*** of the two conditions are ***true***"
   ]
  },
  {
   "cell_type": "code",
   "execution_count": null,
   "metadata": {},
   "outputs": [],
   "source": [
    "accs = ['ab56', 'bh84', 'hv76', 'ay93', 'ap97', 'bd72', 'ck46', 'df01','ap93', 'tc77', 'op30', 'yl01', 'aa42', 'fj11', 'px55', 'am23', 'su87', 'ar64']\n",
    "for accession in accs:\n",
    "    if accession.startswith('a') and accession.endswith('3'):\n",
    "        print(accession)"
   ]
  },
  {
   "cell_type": "markdown",
   "metadata": {},
   "source": [
    "> Complex conditions using ***or***\n",
    "\n",
    "> We can also use **or** to join up two conditions, to produce a complex condition that will be true if ***either*** of the two conditions are ***true***:"
   ]
  },
  {
   "cell_type": "code",
   "execution_count": null,
   "metadata": {},
   "outputs": [],
   "source": [
    "accs = ['ab56', 'bh84', 'hv76', 'ay93', 'ap97', 'bd72', 'ck46', 'df01','ap93', 'tc77', 'op30', 'yl01', 'aa42', 'fj11', 'px55', 'am23', 'su87', 'ar64']\n",
    "for accession in accs:\n",
    "    if accession.startswith('a') or accession.startswith('b'):\n",
    "        print(accession)"
   ]
  },
  {
   "cell_type": "markdown",
   "metadata": {},
   "source": [
    "\n",
    "> Complex conditions using ***and*** & ***or***"
   ]
  },
  {
   "cell_type": "code",
   "execution_count": null,
   "metadata": {},
   "outputs": [],
   "source": [
    "accs = ['ab56', 'bh84', 'hv76', 'ay93', 'ap97', 'bd72', 'ck46', 'df01','ap93', 'tc77', 'op30', 'yl01', 'aa42', 'fj11', 'px55', 'am23', 'su87', 'ar64']\n",
    "for accession in accs:\n",
    "    if (accession.startswith('a') or accession.startswith('b')) and accession.endswith('4'):\n",
    "        print(accession)"
   ]
  },
  {
   "cell_type": "markdown",
   "metadata": {},
   "source": [
    "<div class=\"alert alert-block alert-danger\">\n",
    "\n",
    "> Note the ***brackets*** around the first part. This makes sure the part after the ***and*** is a condition that must be met for both conditions within the brackets after the \"if statement\""
   ]
  },
  {
   "cell_type": "markdown",
   "metadata": {},
   "source": [
    "\n",
    "\n",
    "> Negating conditions with ***not*** "
   ]
  },
  {
   "cell_type": "code",
   "execution_count": null,
   "metadata": {},
   "outputs": [],
   "source": [
    "accs = ['ab56', 'bh84', 'hv76', 'ay93', 'ap97', 'bd72', 'ck46', 'df01','ap93', 'tc77', 'op30', 'yl01', 'aa42', 'fj11', 'px55', 'am23', 'su87', 'ar64']\n",
    "for accession in accs:\n",
    "    if accession.startswith('a') and not accession.endswith('6'):\n",
    "        print(accession)"
   ]
  },
  {
   "cell_type": "markdown",
   "metadata": {},
   "source": [
    "\n",
    "> Using ***continue*** and ***break***"
   ]
  },
  {
   "cell_type": "code",
   "execution_count": null,
   "metadata": {},
   "outputs": [],
   "source": [
    "for x in range(11):\n",
    "    if x == 2:\n",
    "        continue # skip 2 and go immediately to the next iteration\n",
    "    if x == 7:\n",
    "        break # quit the loop entirely at 7 & don't execute what follows\n",
    "    print (x)\n",
    "\n",
    "#This should start at 0, skip 2 and break at 7. "
   ]
  },
  {
   "cell_type": "code",
   "execution_count": null,
   "metadata": {},
   "outputs": [],
   "source": [
    "accs = ['ab56', 'bh84', 'hv76', 'ay93', 'ap97', 'bd72', 'ck46', 'df01','ap93', 'tc77', 'op30', 'yl01', 'aa42', 'fj11', 'px55', 'am23', 'su87', 'ar64']\n",
    "for accession in accs:\n",
    "    if accession.startswith('a'):\n",
    "        continue # skip\n",
    "    if accession.startswith(\"p\"):\n",
    "        break # stop\n",
    "        \n",
    "    print(accession)"
   ]
  },
  {
   "cell_type": "markdown",
   "metadata": {},
   "source": [
    "<div class=\"alert alert-block alert-info\">\n",
    "    \n",
    "Writing a ***function*** that uses ***conditional tests***"
   ]
  },
  {
   "cell_type": "markdown",
   "metadata": {},
   "source": [
    "\n",
    "> Let's write a function that returns **True** if the dna content is more than 0.65 and **False** if it is not\n",
    "\n",
    ">  Recall that we start a function by first writing the ***logic*** and ***testing*** it"
   ]
  },
  {
   "cell_type": "code",
   "execution_count": null,
   "metadata": {},
   "outputs": [],
   "source": [
    "dna = \"ATTATCTACTA\"\n",
    "\n",
    "length_dna = len(dna)\n",
    "a_count = dna.upper().count('A')\n",
    "t_count = dna.upper().count('T')\n",
    "at_content = (a_count + t_count) / length_dna\n",
    "\n",
    "if at_content > 0.65:\n",
    "    print(True)\n",
    "else:\n",
    "    print(False)"
   ]
  },
  {
   "cell_type": "markdown",
   "metadata": {},
   "source": [
    "\n",
    "> Now turn this into a function by ***naming*** it, adding the proper ***indendation*** and the ***return*** statement"
   ]
  },
  {
   "cell_type": "code",
   "execution_count": null,
   "metadata": {},
   "outputs": [],
   "source": [
    "def is_at_rich(dna):\n",
    "    length = len(dna)\n",
    "    a_count = dna.upper().count('A')\n",
    "    t_count = dna.upper().count('T')\n",
    "    at_content = (a_count + t_count) / length\n",
    "    if at_content > 0.65:\n",
    "        return True\n",
    "    else:\n",
    "        return False\n"
   ]
  },
  {
   "cell_type": "markdown",
   "metadata": {},
   "source": [
    "\n",
    "> Now call the function which with **is_at_rich(**dna**)**"
   ]
  },
  {
   "cell_type": "code",
   "execution_count": null,
   "metadata": {},
   "outputs": [],
   "source": [
    "print(is_at_rich(\"ATTATCTACTA\"))\n",
    "print(is_at_rich(\"CGGCAGCGCT\"))"
   ]
  },
  {
   "cell_type": "markdown",
   "metadata": {},
   "source": [
    "\n",
    "> Or we can just make it more concise \n"
   ]
  },
  {
   "cell_type": "code",
   "execution_count": null,
   "metadata": {},
   "outputs": [],
   "source": [
    "def is_at_rich(dna):\n",
    "    length = len(dna)\n",
    "    a_count = dna.upper().count('A')\n",
    "    t_count = dna.upper().count('T')\n",
    "    at_content = (a_count + t_count) / length\n",
    "    return at_content < 0.65 # return True or False depending on whether the at_content > 0.65. \n",
    "\n",
    "print(is_at_rich(\"CGGCAGCGCT\"))"
   ]
  },
  {
   "cell_type": "markdown",
   "metadata": {},
   "source": [
    "\n",
    "    \n",
    "<h2><center>Exercises</center></h1>\n",
    "\n"
   ]
  },
  {
   "cell_type": "markdown",
   "metadata": {},
   "source": [
    "In the chapter_6 folder in the exercises download, you'll find a text file called data.csv, containing some made-up data for a number of genes. \n",
    "<br>Each line contains the following fields for a single gene in this order: species name, sequence, gene\n",
    "name, expression level. \n",
    "<br>The fields are separated by commas (hence the name of the file – csv stands for Comma Separated Values). \n",
    "<br>Think of it as a representation of a table in a spreadsheet – each line is a row, and each field in a line is a column. \n",
    "<br>All the exercises for this chapter use the data read from this file."
   ]
  },
  {
   "cell_type": "markdown",
   "metadata": {},
   "source": [
    "<br>\n",
    "\n",
    "**Exercise 1:** \n",
    "<br>_Print out the gene names for all genes belonging to **Drosophila melanogaster** or **Drosophila simulans**._"
   ]
  },
  {
   "cell_type": "code",
   "execution_count": null,
   "metadata": {},
   "outputs": [],
   "source": [
    "#gene name is in coloum 3\n",
    "\n",
    "#open_file = open(\"/home/tracey/Desktop/Studygroup/Python/Python_for_Biologists_exercises/data.csv\")\n",
    "\n",
    "open_file open(\"data.csv\")\n",
    "\n",
    "for line in open_file:\n",
    "    line = line.strip()\n",
    "    column = line.split(\",\")\n",
    "    species = column[0]\n",
    "    gene_name = column[2]\n",
    "    if species == \"Drosophila melanogaster\" or species == \"Drosophila simulans\":\n",
    "        print (species,gene_name)      "
   ]
  },
  {
   "cell_type": "markdown",
   "metadata": {},
   "source": [
    "<br>\n",
    "\n",
    "**Exercise 2:**\n",
    "<br>**_Length range_**\n",
    "<br>Print out the gene names for all genes between 90 and 110 bases long.\n"
   ]
  },
  {
   "cell_type": "code",
   "execution_count": null,
   "metadata": {},
   "outputs": [],
   "source": [
    "# sequences/bases are in coloum 2\n",
    "#open_file = open(\"/home/tracey/Desktop/Studygroup/Python/Python_for_Biologists_exercises/data.csv\")\n",
    "open_file open(\"data.csv\")\n",
    "\n",
    "for line in open_file:\n",
    "    column = line.split(\",\")\n",
    "    sequence = column[1]\n",
    "    gene_name = column[2]\n",
    "    sequence_length = len(sequence)\n",
    "    if 90  < sequence_length < 110: \n",
    "#     if sequence_length  > 90  and sequence_length < 110: \n",
    "        print (gene_name, sequence_length)\n",
    "\n",
    "    "
   ]
  },
  {
   "cell_type": "markdown",
   "metadata": {},
   "source": [
    "<br>\n",
    "\n",
    "**Exercise 3**\n",
    "<br> **_AT content_**\n",
    "<br>Print out the **gene names** for all genes with **AT content less than 0.5** and **expression levels greater than 200**.\n",
    "\n",
    "<br>Example of file\n",
    "<br>###########################################################\n",
    "<br>Drosophila melanogaster, atatatcgcgtaattacga,\tkdy647,\t264\n",
    "<br>###########################################################"
   ]
  },
  {
   "cell_type": "code",
   "execution_count": null,
   "metadata": {},
   "outputs": [],
   "source": [
    "open_file = open(\"/home/tracey/Desktop/Studygroup/Python/Python_for_Biologists_exercises/data.csv\")\n",
    "\n",
    "def AT_content(dna):\n",
    "    dna = dna.lower()\n",
    "    sequence_length = len(dna)\n",
    "    a_content = dna.count(\"a\")\n",
    "    t_content = dna.count(\"t\")\n",
    "    at_content = round(((a_content + t_content) / sequence_length), 2)\n",
    "    return at_content\n",
    "\n",
    "for line in open_file:\n",
    "    line = line.strip()\n",
    "    column = line.split(\",\")\n",
    "    gene_names = column [2]\n",
    "    sequence = column [1]\n",
    "    expression = int(column[-1])\n",
    "    if expression > 200 and AT_content(sequence) < 0.5:\n",
    "        print (gene_names, expression, AT_content(sequence))\n",
    "\n",
    "# my_dna_content = AT_content(\"aaattt\")\n",
    "\n",
    "# print(my_dna_content)\n"
   ]
  },
  {
   "cell_type": "markdown",
   "metadata": {},
   "source": [
    "<br>\n",
    "\n",
    "**Exercise 4** (alternative answer with **NO Function**)\n",
    "\n",
    "<br>"
   ]
  },
  {
   "cell_type": "code",
   "execution_count": 1,
   "metadata": {},
   "outputs": [
    {
     "ename": "SyntaxError",
     "evalue": "invalid syntax (<ipython-input-1-8875aea0864c>, line 4)",
     "output_type": "error",
     "traceback": [
      "\u001b[0;36m  File \u001b[0;32m\"<ipython-input-1-8875aea0864c>\"\u001b[0;36m, line \u001b[0;32m4\u001b[0m\n\u001b[0;31m    open_file open(\"data.csv\")\u001b[0m\n\u001b[0m                 ^\u001b[0m\n\u001b[0;31mSyntaxError\u001b[0m\u001b[0;31m:\u001b[0m invalid syntax\n"
     ]
    }
   ],
   "source": [
    "#open_file = open(\"/home/tracey/Desktop/Studygroup/Python/Python_for_Biologists_exercises/data.csv\")\n",
    "\n",
    "\n",
    "open_file open(\"data.csv\")\n",
    "for line in open_file:\n",
    "    line = line.strip ()\n",
    "    column = line.split(\",\")\n",
    "    gene_names = column [2]\n",
    "    sequence = column [1].lower()\n",
    "    expression = int(column [-1])\n",
    "    sequence_length = len(sequence)\n",
    "    a_content = sequence.count(\"a\")\n",
    "    t_content = sequence.count(\"t\")\n",
    "    at_content = round( ((a_content + t_content) / sequence_length),2)\n",
    "#     print(at_content, gene_names, expression)\n",
    "    if at_content < 0.5 and expression > 200: \n",
    "        print (gene_names, expression, at_content)\n",
    " \n",
    "\n",
    "\n",
    "# my_dna_content = AT_content(\"aaattt\")\n",
    "\n",
    "# print(my_dna_content)\n"
   ]
  },
  {
   "cell_type": "markdown",
   "metadata": {},
   "source": [
    "<br>\n",
    "\n",
    "**Exercise 5**\n",
    "<br> **_Complex condition_**\n",
    "<br> Print out the gene names for all genes whose name begins with **\"k\"** or **\"h\" except**\n",
    "<br> those belonging to **Drosophila melanogaster**."
   ]
  },
  {
   "cell_type": "code",
   "execution_count": null,
   "metadata": {},
   "outputs": [],
   "source": [
    "#open_file = open(\"/home/tracey/Desktop/Studygroup/Python/Python_for_Biologists_exercises/data.csv\")\n",
    "\n",
    "open_file open(\"data.csv\")\n",
    "\n",
    "for line in open_file:\n",
    "    line = line.strip ()\n",
    "    species = column[0]\n",
    "    column = line.split(\",\")\n",
    "    gene_names = column [2]\n",
    "    sequence = column [1]\n",
    "    expression = int(column [-1])\n",
    "    sequence_length = len(sequence)\n",
    "    if (gene_names.startswith(\"k\") or gene_names.startswith(\"h\")) and not species == \"Drosophila melanogaster\":\n",
    "        print(species, gene_names)"
   ]
  },
  {
   "cell_type": "markdown",
   "metadata": {},
   "source": [
    "<br>\n",
    "\n",
    "**Exercise 6**\n",
    "<br>**_High low medium_**\n",
    "<br>For each gene, print out a message giving the gene name and say whether its **AT content** is **high** (greater than 0.65), **low** (less than 0.45) or **medium** (between 0.45 and 0.65)."
   ]
  },
  {
   "cell_type": "code",
   "execution_count": null,
   "metadata": {},
   "outputs": [],
   "source": [
    "#open_file = open(\"/home/tracey/Desktop/Studygroup/Python/Python_for_Biologists_exercises/data.csv\")\n",
    "\n",
    "open_file open(\"data.csv\")\n",
    "\n",
    "def AT_content(dna):\n",
    "    dna = dna.lower()\n",
    "    sequence_length = len(dna)\n",
    "    a_content = dna.count(\"a\")\n",
    "    t_content = dna.count(\"t\")\n",
    "    at_content = (a_content + t_content) / sequence_length\n",
    "    return at_content\n",
    "\n",
    "for line in open_file:\n",
    "    line = line.strip()\n",
    "    species = column[0]\n",
    "    column = line.split(\",\")\n",
    "    gene_names = column [2]\n",
    "    sequence = column[1]\n",
    "    expression = int(column [-1])\n",
    "    if AT_content(sequence)> 0.65:\n",
    "        print(gene_names, \"AT_content is high\")\n",
    "    elif 0.45 < AT_content(sequence) < 0.65 :\n",
    "        print(gene_names, \"AT_content is medium\")\n",
    "    elif AT_content(sequence)< 0.65:\n",
    "        print(gene_names, \"AT_content is low\")\n",
    "        \n",
    "        \n",
    "# saying whether its AT content is high (greater than 0.65), \n",
    "#low (less than 0.45) or \n",
    "# medium (between 0.45 and 0.65)."
   ]
  },
  {
   "cell_type": "markdown",
   "metadata": {},
   "source": [
    "<br>\n",
    "\n",
    "**Exercise 6** (alternative answer)\n",
    "<br>"
   ]
  },
  {
   "cell_type": "code",
   "execution_count": null,
   "metadata": {},
   "outputs": [],
   "source": [
    "# open_file = open(\"/home/tracey/Desktop/Studygroup/Python/Python_for_Biologists_exercises/data.csv\")\n",
    "open_file open(\"data.csv\")\n",
    "\n",
    "def AT_content(dna):\n",
    "    dna = dna.lower()\n",
    "    sequence_length = len(dna)\n",
    "    a_content = dna.count(\"a\")\n",
    "    t_content = dna.count(\"t\")\n",
    "    at_content = (a_content + t_content) / sequence_length\n",
    "    return at_content\n",
    "\n",
    "for line in open_file:\n",
    "    line = line.strip()\n",
    "    species = column[0]\n",
    "    column = line.split(\",\")\n",
    "    gene_names = column [2]\n",
    "    sequence = column[1]\n",
    "    expression = int(column [-1])\n",
    "    if AT_content(sequence)> 0.65:\n",
    "        print(gene_names, \"AT_content is high\")\n",
    "    elif AT_content(sequence) < 0.45:\n",
    "        print(gene_names, \"AT_content is low\")\n",
    "    else:\n",
    "        print(gene_names, \"AT_content is medium\")\n",
    "        \n",
    "        \n",
    "# saying whether its AT content is high (greater than 0.65), \n",
    "#low (less than 0.45) or \n",
    "# medium (between 0.45 and 0.65)."
   ]
  }
 ],
 "metadata": {
  "kernelspec": {
   "display_name": "Python 3",
   "language": "python",
   "name": "python3"
  },
  "language_info": {
   "codemirror_mode": {
    "name": "ipython",
    "version": 3
   },
   "file_extension": ".py",
   "mimetype": "text/x-python",
   "name": "python",
   "nbconvert_exporter": "python",
   "pygments_lexer": "ipython3",
   "version": "3.7.3"
  }
 },
 "nbformat": 4,
 "nbformat_minor": 2
}
